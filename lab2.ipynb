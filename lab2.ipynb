{
 "cells": [
  {
   "cell_type": "markdown",
   "metadata": {},
   "source": [
    "### Задание\n",
    "\n",
    "![Тут должна быть картинка с заданием. Если она не отобразится, то у меня 3 вариант](task2.png)"
   ]
  },
  {
   "cell_type": "markdown",
   "metadata": {},
   "source": [
    "### Решение\n",
    "\n",
    "#### Задание 1: определить, какую информацию можно получить по криптограмме.\n",
    "\n",
    "Для красивого вывода подключаем tabulate. Далее нам еще понадобятся модуль numpy."
   ]
  },
  {
   "cell_type": "code",
   "execution_count": 1,
   "metadata": {},
   "outputs": [],
   "source": [
    "from tabulate import tabulate\n",
    "import numpy as np\n",
    "tfmt = 'github'\n",
    "ffmt = '.3f'"
   ]
  },
  {
   "cell_type": "markdown",
   "metadata": {},
   "source": [
    "Вводим исходные данные."
   ]
  },
  {
   "cell_type": "code",
   "execution_count": 9,
   "metadata": {},
   "outputs": [
    {
     "name": "stdout",
     "output_type": "stream",
     "text": [
      "Пространство сообщений (открытых текстов) M:\n",
      "x  y  z\n",
      "Вероятности выбора сообщений:\n",
      "|   x |    y |    z |\n",
      "|-----|------|------|\n",
      "| 0.5 | 0.25 | 0.25 |\n",
      "\n",
      "Пространство ключей K:\n",
      "k1  k2\n",
      "Вероятности выбора ключей:\n",
      "|        x |        y |\n",
      "|----------|----------|\n",
      "| 0.666667 | 0.333333 |\n",
      "\n",
      "Пространство криптограмм C:\n",
      "a  b  c\n",
      "Функция шифрования E(k):\n",
      "|    | x   | y   | z   |\n",
      "|----|-----|-----|-----|\n",
      "| k1 | a   | b   | a   |\n",
      "| k2 | c   | c   | b   |\n"
     ]
    }
   ],
   "source": [
    "# пространство сообщений\n",
    "m = ['x', 'y', 'z']\n",
    "mSize = len(m)\n",
    "pM = [1/2, 1/4, 1/4]\n",
    "\n",
    "print(\"Пространство сообщений (открытых текстов) M:\")\n",
    "print(tabulate([m], tablefmt='plain'))\n",
    "\n",
    "print(\"Вероятности выбора сообщений:\")\n",
    "print(tabulate([pM], headers=m, tablefmt=tfmt))\n",
    "\n",
    "# пространство ключей\n",
    "k = ['k1', 'k2']\n",
    "kSize = len(k)\n",
    "pK = [2/3, 1/3]\n",
    "\n",
    "print()\n",
    "print(\"Пространство ключей K:\")\n",
    "print(tabulate([k], tablefmt='plain'))\n",
    "\n",
    "print(\"Вероятности выбора ключей:\")\n",
    "print(tabulate([pK], headers=m[:2], tablefmt=tfmt))\n",
    "\n",
    "# пространство криптограмм\n",
    "c = ['a', 'b', 'c']\n",
    "cSize = len(c)\n",
    "func = [['a', 'b', 'a'],\n",
    "        ['c', 'c', 'b'],]\n",
    "\n",
    "print()\n",
    "print(\"Пространство криптограмм C:\")\n",
    "print(tabulate([c], tablefmt='plain'))\n",
    "\n",
    "print(\"Функция шифрования E(k):\")\n",
    "print(tabulate(func, headers=m, showindex=k, tablefmt=tfmt))"
   ]
  },
  {
   "cell_type": "markdown",
   "metadata": {},
   "source": [
    "Далее находим нужные вероятности по методичке."
   ]
  },
  {
   "cell_type": "code",
   "execution_count": 10,
   "metadata": {},
   "outputs": [
    {
     "name": "stdout",
     "output_type": "stream",
     "text": [
      "\n",
      "Распределение вероятностей на С:\n",
      "|     a |     b |     c |\n",
      "|-------|-------|-------|\n",
      "| 0.500 | 0.250 | 0.250 |\n",
      "\n",
      "Вероятность выбора шифротекста С при известном открытом тексте M:\n",
      "|    |     a |     b |     c |\n",
      "|----|-------|-------|-------|\n",
      "| x  | 0.667 | 0.000 | 0.333 |\n",
      "| y  | 0.000 | 0.667 | 0.333 |\n",
      "| z  | 0.667 | 0.333 | 0.000 |\n",
      "\n",
      "Вероятность открытых текстов M при данных шифртекстах C:\n",
      "|    |     x |     y |     z |\n",
      "|----|-------|-------|-------|\n",
      "| a  | 0.667 | 0.000 | 0.333 |\n",
      "| b  | 0.000 | 0.667 | 0.333 |\n",
      "| c  | 0.667 | 0.333 | 0.000 |\n"
     ]
    }
   ],
   "source": [
    "pC = [0] * cSize\n",
    "for i in range(0, kSize):\n",
    "    for j in range(0, mSize):\n",
    "        pC[c.index(func[i][j])] += pK[i] * pM[j]\n",
    "\n",
    "print()\n",
    "print(\"Распределение вероятностей на С:\")\n",
    "print(tabulate([pC], headers=c, tablefmt=tfmt, floatfmt=ffmt))\n",
    "\n",
    "pCM = list() # помогите, я не умею нормально задавать пустые матрицы\n",
    "for i in range(0, mSize):\n",
    "    pCM.append(list())\n",
    "    for j in range(0, cSize):\n",
    "        pCM[i].append(0)\n",
    "\n",
    "for i in range(0, kSize):\n",
    "    for j in range(0, mSize):\n",
    "        pCM[j][c.index(func[i][j])] += pK[i]\n",
    "\n",
    "print()\n",
    "print(\"Вероятность выбора шифротекста С при известном открытом тексте M:\")\n",
    "print(tabulate(pCM, headers=c, showindex=m, tablefmt=tfmt, floatfmt=ffmt))\n",
    "\n",
    "pMC = list()\n",
    "for i in range(0, cSize):\n",
    "    pMC.append(list())\n",
    "    for j in range(0, mSize):\n",
    "        pMC[i].append(0)\n",
    "        pMC[i][j] = pM[j] * pCM[j][i] / pC[i]\n",
    "\n",
    "print()\n",
    "print(\"Вероятность открытых текстов M при данных шифртекстах C:\")\n",
    "print(tabulate(pMC, headers=m, showindex=c, tablefmt=tfmt, floatfmt=ffmt))"
   ]
  },
  {
   "cell_type": "markdown",
   "metadata": {},
   "source": [
    "Анализируя полученные результаты, приходим к следующим выводам:\n",
    "* если мы получаем шифртекст *a*, то более вероятно, что соответствующий открытый текст - *x*, чем *z* и точно не  *y*\n",
    "* по полученному шифртексту *b* можно сказать, что исходное сообщение - точно не *x*, а вероятнее *y*, реже - *z*\n",
    "* шифртекст *c* позволяет сделать вывод, что сообщение не являлось *z*, а было скорее всего *x*, реже - *y*"
   ]
  },
  {
   "cell_type": "markdown",
   "metadata": {},
   "source": [
    "#### Задание 2: найти энтропии для каждого из пространств.\n",
    "\n",
    "Легко находим энтропию по данной в методичке формуле."
   ]
  },
  {
   "cell_type": "code",
   "execution_count": 13,
   "metadata": {},
   "outputs": [
    {
     "name": "stdout",
     "output_type": "stream",
     "text": [
      "|   H(M) |   H(K) |   H(C) |\n",
      "|--------|--------|--------|\n",
      "|  1.500 |  0.918 |  1.500 |\n"
     ]
    }
   ],
   "source": [
    "spacesNames = ['H(M)', 'H(K)', 'H(C)']\n",
    "spaces = [np.array(s) for s in [pM, pK, pC]]\n",
    "entropy = [(-1) * np.sum(s * np.log2(s)) for s in spaces]\n",
    "print(tabulate([entropy], headers=spacesNames, tablefmt=tfmt, floatfmt=ffmt))"
   ]
  },
  {
   "cell_type": "markdown",
   "metadata": {},
   "source": [
    "Энтропия каждого из пространств примерно равна 1.3. Следовательно, \"утекает\" примерно 1.3 бита информации о ключе и соответствующем открытом тексте. "
   ]
  },
  {
   "cell_type": "markdown",
   "metadata": {},
   "source": [
    "#### Задание 3: найти неопределенность ключа и сделать вывод.\n",
    "\n",
    "Неопределенность ключа - величина *H(K|C)*. Находится она по формуле *H(K|C) = H(M) + H(K) - H(C)*."
   ]
  },
  {
   "cell_type": "code",
   "execution_count": 12,
   "metadata": {},
   "outputs": [
    {
     "name": "stdout",
     "output_type": "stream",
     "text": [
      "H(K|C) = 0.9182958340544896\n"
     ]
    }
   ],
   "source": [
    "print(f\"H(K|C) = {entropy[0] + entropy[1] - entropy[2]}\")"
   ]
  },
  {
   "cell_type": "markdown",
   "metadata": {},
   "source": [
    "H(C) > H(K|C)\n",
    "H(C)   = 1.500\n",
    "H(K|C) = 0.918\n",
    "\n",
    "Таким образом, после просмотра отдельного шифртекста нам остается\n",
    "найти около полутора бит информации об истинном ключе шифровки. Этот\n",
    "пример объясняет, как криптосистема допускает утечку информации, и\n",
    "показывает, почему ее нельзя считать стойкой. Как-никак, вначале у нас есть\n",
    "1.500 бита неопределенности относительно ключа, а знание одной шифровки\n",
    "уменьшает неопределенность до 0.918 бита. То есть отдельный шифртекст\n",
    "сообщает о ключе *1.500 - 0.918 = 0.582* − бита информации."
   ]
  }
 ],
 "metadata": {
  "interpreter": {
   "hash": "aa295b9ef15947fab0902f3d252970794a4eed9dac9372ca4a23071ba7ebc36f"
  },
  "kernelspec": {
   "display_name": "Python 3.9.6 64-bit",
   "language": "python",
   "name": "python3"
  },
  "language_info": {
   "codemirror_mode": {
    "name": "ipython",
    "version": 3
   },
   "file_extension": ".py",
   "mimetype": "text/x-python",
   "name": "python",
   "nbconvert_exporter": "python",
   "pygments_lexer": "ipython3",
   "version": "3.9.10"
  },
  "orig_nbformat": 4
 },
 "nbformat": 4,
 "nbformat_minor": 2
}
