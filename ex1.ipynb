{
 "cells": [
  {
   "cell_type": "markdown",
   "metadata": {},
   "source": [
    "### Задание №1.\n",
    "Зашифруйте сообщение \"this is exercise\", используя один из следующих шифров. Игнорируйте пробелы между словами. Расшифруйте сообщение, чтобы получать первоначальный исходный текст.\n",
    "* Аддитивный шифр с ключом = 20\n",
    "* Мультипликативный шифр с ключом = 15\n",
    "* Афинный шифр с ключом = (15, 20)"
   ]
  },
  {
   "cell_type": "code",
   "execution_count": 1,
   "metadata": {},
   "outputs": [
    {
     "name": "stdout",
     "output_type": "stream",
     "text": [
      "The encoded by additive method for 'thisisexercise' is 'nbcmcmyrylwcmy'\n",
      "The decoded from additive method for 'nbcmcmyrylwcmy' is 'thisisexercise'\n"
     ]
    }
   ],
   "source": [
    "ALPH_LEN = 26\n",
    "input = \"thisisexercise\"\n",
    "ADD_KEY = 20\n",
    "\n",
    "def add_encode(input, key):\n",
    "    ans = \"\"\n",
    "    for s in input:\n",
    "        ans += (chr((ord(s) - ord('a') + ADD_KEY) % ALPH_LEN + ord('a')))\n",
    "    return ans\n",
    "\n",
    "def add_decode(input, key):\n",
    "    ans = \"\"\n",
    "    for s in input:\n",
    "        ans += (chr((ord(s) - ord('a') - ADD_KEY) % ALPH_LEN + ord('a')))\n",
    "    return ans\n",
    "    \n",
    "\n",
    "print(f\"The encoded by additive method for '{input}' is '{add_encode(input, ADD_KEY)}'\")\n",
    "print(f\"The decoded from additive method for '{add_encode(input, ADD_KEY)}' is '{add_decode(add_encode(input, ADD_KEY), ADD_KEY)}'\")\n"
   ]
  },
  {
   "cell_type": "markdown",
   "metadata": {},
   "source": [
    "### Задание №2\n",
    "Зашифруйте сообщение \"the house is being sold tonight\" используя один из следующих шифров. Игнорируйте пробелы между словами. Расшифруйте сообщение что бы получить исходный текст.\n",
    "* Шифр Вижнера с ключем \"dollars\"\n",
    "* Шифр с автоматическим ключем = 7\n",
    "* Шифр Плейфера с ключем созданным в тексте (см рис. 4.13)"
   ]
  },
  {
   "cell_type": "code",
   "execution_count": 2,
   "metadata": {},
   "outputs": [
    {
     "name": "stdout",
     "output_type": "stream",
     "text": [
      "Vijner encode for thehouseisbeingsoldtonight is wvpsolkhwdmezfjgzwdkgqwrst\n",
      "Vijner decode for wvpsolkhwdmezfjgzwdkgqwrst is thehouseisbeingsoldtonight\n"
     ]
    }
   ],
   "source": [
    "def vijner_encode(input, key):\n",
    "    ans = \"\"\n",
    "    for i in range(0, len(input)):\n",
    "        ans += chr(((ord(input[i]) - ord('a')) + (ord(key[i%len(key)]) - ord('a'))) % ALPH_LEN + ord('a'))\n",
    "    return ans\n",
    "\n",
    "\n",
    "def vijner_decode(input, key):\n",
    "    ans = \"\"\n",
    "    for i in range(0, len(input)):\n",
    "        ans += chr(((ord(input[i]) - ord('a')) - (ord(key[i%len(key)]) - ord('a'))) % ALPH_LEN + ord('a'))\n",
    "    return ans\n",
    "\n",
    "\n",
    "input = \"thehouseisbeingsoldtonight\"\n",
    "VIJN_KEY = \"dollars\"\n",
    "\n",
    "print(f\"Vijner encode for {input} is {vijner_encode(input, VIJN_KEY)}\")\n",
    "print(f\"Vijner decode for {vijner_encode(input, VIJN_KEY)} is {vijner_decode(vijner_encode(input, VIJN_KEY), VIJN_KEY)}\")\n"
   ]
  },
  {
   "cell_type": "markdown",
   "metadata": {},
   "source": [
    "### Задание №3\n",
    "Используйте шифр Вижнера с ключевым словом \"HEALTH\" чтобы зашифровать сщщбщение \"Life is full surprises\""
   ]
  },
  {
   "cell_type": "code",
   "execution_count": 3,
   "metadata": {},
   "outputs": [
    {
     "name": "stdout",
     "output_type": "stream",
     "text": [
      "Vijner encode for lifeisfullsurprises is mgzjvtgsfqfvsnlnfft\n",
      "Vijner decode for mgzjvtgsfqfvsnlnfft is lifeisfullsurprises\n"
     ]
    }
   ],
   "source": [
    "VIJN_KEY = \"HEALTH\"\n",
    "input = \"lifeisfullsurprises\"\n",
    "\n",
    "print(f\"Vijner encode for {input} is {vijner_encode(input, VIJN_KEY)}\")\n",
    "print(f\"Vijner decode for {vijner_encode(input, VIJN_KEY)} is {vijner_decode(vijner_encode(input, VIJN_KEY), VIJN_KEY)}\")"
   ]
  },
  {
   "cell_type": "markdown",
   "metadata": {},
   "source": [
    "\n",
    "### Задание №4\n",
    "\n",
    "Используйте шифр Плейфера, чтобы зашифровать сообщение \"The key hidden under the door pad\" (\"ключ спрятан под ковриком у двери\"). Ключ засекречивания можно составить, заполняя первую и вторую часть строки со словом \"GUIDANCE\" и заполняя остальную часть матрицы с остальной частью алфавита.\n",
    "Решение\n",
    "\n",
    "В сообщении присутствуют одинаковые подряд идущие буквы (\"d\" и \"o\"), которые нужно разделить другим символом, например, \"x\". Плюс длина сообщения нечетная, поэтому добавим \"x\" и в конец сообщения.\n",
    "\n",
    "Напишем функцию обработки строки, а так же составим ключ по строке.\n"
   ]
  },
  {
   "cell_type": "code",
   "execution_count": 4,
   "metadata": {},
   "outputs": [
    {
     "name": "stdout",
     "output_type": "stream",
     "text": [
      "Исходное сообщение:\n",
      "thekeyishiddenunderthedoorpad\n",
      "Скорректированное сообщение:\n",
      "thekeyishidxdenunderthedoxorpadx\n",
      "Ключ:\n",
      "[['G', 'U', 'IJ', 'D', 'A'], ['N', 'C', 'E', 'B', 'F'], ['H', 'K', 'L', 'M', 'O'], ['P', 'Q', 'R', 'S', 'T'], ['V', 'W', 'X', 'Y', 'Z']]\n",
      "Сообщение, закодированное шифром Плейфера:\n",
      "poclbxdrlgiyibcgbglxpobilzlttgiy\n",
      "Сообщение, декодированное шифром Плейфера:\n",
      "thekeyishidxdenunderthedoxorpadx\n"
     ]
    }
   ],
   "source": [
    "def getCoords(char, key):\n",
    "    for j in range(0, len(key)):\n",
    "        for k in range(0, len(key[j])):\n",
    "            if key[j][k].find(char.upper()) != -1:\n",
    "                return (j, k)\n",
    "    return (-1, -1)\n",
    "\n",
    "def getChar(coord, key):\n",
    "    return key[coord[0]][coord[1]][0].lower()\n",
    "\n",
    "def enc_plfr(str, key):\n",
    "    output = \"\"\n",
    "    for i in range(0, len(str), 2):\n",
    "        first = str[i]\n",
    "        second = str[i+1]\n",
    "        firstC = getCoords(first, key)\n",
    "        secondC = getCoords(second, key)\n",
    "        newFirstC=(firstC[0], secondC[1])\n",
    "        newSecondC=(secondC[0], firstC[1])\n",
    "        if firstC[0] == secondC[0]:\n",
    "            newFirstC=(firstC[0], (firstC[1] + 1) % len(key[0]))\n",
    "            newSecondC=(secondC[0], (secondC[1] + 1) % len(key[0]))\n",
    "        elif firstC[1] == secondC[1]:\n",
    "            newFirstC=((firstC[0] + 1) % len(key), firstC[1])\n",
    "            newSecondC=((secondC[0] + 1) % len(key), secondC[1])            \n",
    "        newFirst = getChar(newFirstC, key)\n",
    "        newSecond = getChar(newSecondC, key)\n",
    "        output += newFirst + newSecond\n",
    "    return output;\n",
    "\n",
    "\n",
    "def dec_plfr(str, key):\n",
    "    output = \"\"\n",
    "    for i in range(0, len(str), 2):\n",
    "        first = str[i]\n",
    "        second = str[i+1]\n",
    "        firstC = getCoords(first, key)\n",
    "        secondC = getCoords(second, key)\n",
    "        newFirstC=(firstC[0], secondC[1])\n",
    "        newSecondC=(secondC[0], firstC[1])\n",
    "        if firstC[0] == secondC[0]:\n",
    "            newFirstC=(firstC[0], (firstC[1] - 1 + len(key[0])) % len(key[0]))\n",
    "            newSecondC=(secondC[0], (secondC[1] - 1 + len(key[0])) % len(key[0]))\n",
    "        elif firstC[1] == secondC[1]:\n",
    "            newFirstC=((firstC[0] - 1 + len(key)) % len(key), firstC[1])\n",
    "            newSecondC=((secondC[0] - 1 + len(key)) % len(key), secondC[1])            \n",
    "        newFirst = getChar(newFirstC, key)\n",
    "        newSecond = getChar(newSecondC, key)\n",
    "        output += newFirst + newSecond\n",
    "    return output;\n",
    "\n",
    "\n",
    "def pred_plfr(str, symb):\n",
    "    output = \"\"\n",
    "    for i in range(0, len(str) - 1):\n",
    "        output += str[i]\n",
    "        if str[i] == str[i + 1]:\n",
    "            output += symb\n",
    "    output += str[-1]\n",
    "    if len(output) % 2 == 1:\n",
    "        output += symb\n",
    "    return output\n",
    "\n",
    "key =   [[\"G\", \"U\", \"IJ\", \"D\", \"A\"],\n",
    "         [\"N\", \"C\", \"E\", \"B\", \"F\"],\n",
    "         [\"H\", \"K\", \"L\", \"M\", \"O\"],\n",
    "         [\"P\", \"Q\", \"R\", \"S\", \"T\"],\n",
    "         [\"V\", \"W\", \"X\", \"Y\", \"Z\"]]\n",
    "\n",
    "input = \"thekeyishiddenunderthedoorpad\"\n",
    "corr_input = pred_plfr(input, \"x\")\n",
    "\n",
    "print(\"Исходное сообщение:\")\n",
    "print(input)\n",
    "\n",
    "print(\"Скорректированное сообщение:\")\n",
    "print(corr_input)\n",
    "\n",
    "print(\"Ключ:\")\n",
    "print(key)\n",
    "\n",
    "encoded = enc_plfr(corr_input, key)\n",
    "print(\"Сообщение, закодированное шифром Плейфера:\")\n",
    "print(encoded)\n",
    "\n",
    "decoded = dec_plfr(encoded, key)\n",
    "print(\"Сообщение, декодированное шифром Плейфера:\")\n",
    "print(decoded)\n"
   ]
  },
  {
   "cell_type": "markdown",
   "metadata": {},
   "source": [
    "\n",
    "### Задание №5\n",
    "\n",
    "Используйте шифр Хилла, чтобы зашифровать сообщение \"We live in an insecure world\" (\"Мы живем в опасном мире\"). Применять следующий ключ:\n",
    "\n",
    "K = |3 2|\n",
    "\n",
    "........|5 7|\n",
    "Решение\n",
    "\n",
    "Подрубаем numpy, чтобы упростить взаимодействие с матрицами.\n"
   ]
  },
  {
   "cell_type": "code",
   "execution_count": 6,
   "metadata": {},
   "outputs": [],
   "source": [
    "import numpy as np"
   ]
  },
  {
   "cell_type": "markdown",
   "metadata": {},
   "source": [
    "Для упрощения жизни не будем заниматься поиском обратной по модулю матрицы, ибо это не самая простая задача. Учитывая это, нам потребуется всего один метод, так как по сути в случае кодирования мы умножаем ключ на матрицу с исходным сообщением, а в случае декодирования мы умножаем \"обратный\" ключ на закодированное сообщение."
   ]
  },
  {
   "cell_type": "code",
   "execution_count": 9,
   "metadata": {},
   "outputs": [
    {
     "name": "stdout",
     "output_type": "stream",
     "text": [
      "Исходное сообщение:\n",
      "weliveinaninsecureworld\n",
      "Ключ:\n",
      "[[3 2]\n",
      " [5 7]]\n",
      "\"Обратный\" ключ:\n",
      "[[ 3 14]\n",
      " [ 9  5]]\n",
      "Сообщение, закодированное шифром Хилла:\n",
      "wixhtdybanybkouuhjqavgdu\n",
      "Сообщение, декодированное шифром Хилла:\n",
      "weliveinaninsecureworldx\n"
     ]
    }
   ],
   "source": [
    "def hill(str, key):\n",
    "    l = key.shape[0]\n",
    "    # размер ключа\n",
    "    if len(str) % l != 0:\n",
    "        str += \"x\" * (l - len(str) % l)\n",
    "    # дописываем \"x\" в конец сообщения, чтобы оно преобразовывалось в прямоугольную матрицу с высотой l\n",
    "    str_arr = np.asarray([ord(char) - ord('a') for char in str])\n",
    "    # перегоняем строку в np.array с кодами символов\n",
    "    str_arr.shape = (int(len(str) / l), l)\n",
    "    str_arr = str_arr.transpose()\n",
    "    # натягиваем вектор на матрицу и транспонируем её, получая нужную для умножения матрицу\n",
    "    multed = np.matmul(key, str_arr) % ALPH_LEN\n",
    "    # перемножаем ключ и сообщение по модулю N\n",
    "    multed = multed.transpose().ravel()\n",
    "    # назад транспонируем и схлопываем в вектор нашу матрицу, чтобы получить строку\n",
    "    output = \"\".join([chr(num + ord('a')) for num in multed.tolist()])\n",
    "    # перегоняем числа в буквы и собираем из них строку\n",
    "    return output\n",
    "\n",
    "\n",
    "input = \"weliveinaninsecureworld\"\n",
    "\n",
    "key = np.array([[3, 2], \n",
    "                [5, 7]])\n",
    "\n",
    "inv_key = np.array([[3, 14],\n",
    "                    [9, 5]])\n",
    "\n",
    "print(\"Исходное сообщение:\")\n",
    "print(input)\n",
    "\n",
    "print(\"Ключ:\")\n",
    "print(key)\n",
    "\n",
    "print(\"\\\"Обратный\\\" ключ:\")\n",
    "print(inv_key)\n",
    "\n",
    "encoded = hill(input, key)\n",
    "print(\"Сообщение, закодированное шифром Хилла:\")\n",
    "print(encoded)\n",
    "\n",
    "decoded = hill(encoded, inv_key)\n",
    "print(\"Сообщение, декодированное шифром Хилла:\")\n",
    "print(decoded)"
   ]
  }
 ],
 "metadata": {
  "interpreter": {
   "hash": "aee8b7b246df8f9039afb4144a1f6fd8d2ca17a180786b69acc140d282b71a49"
  },
  "kernelspec": {
   "display_name": "Python 3.9.10 64-bit",
   "language": "python",
   "name": "python3"
  },
  "language_info": {
   "codemirror_mode": {
    "name": "ipython",
    "version": 3
   },
   "file_extension": ".py",
   "mimetype": "text/x-python",
   "name": "python",
   "nbconvert_exporter": "python",
   "pygments_lexer": "ipython3",
   "version": "3.10.0"
  },
  "orig_nbformat": 4
 },
 "nbformat": 4,
 "nbformat_minor": 2
}
