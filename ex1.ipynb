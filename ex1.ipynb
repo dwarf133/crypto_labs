{
 "cells": [
  {
   "cell_type": "markdown",
   "metadata": {},
   "source": [
    "### Задание №1.\n",
    "Зашифруйте сообщение \"this is exercise\", используя один из следующих шифров. Игнорируйте пробелы между словами. Расшифруйте сообщение, чтобы получать первоначальный исходный текст.\n",
    "* Аддитивный шифр с ключом = 20\n",
    "* Мультипликативный шифр с ключом = 15\n",
    "* Афинный шифр с ключом = (15, 20)"
   ]
  },
  {
   "cell_type": "code",
   "execution_count": 10,
   "metadata": {},
   "outputs": [
    {
     "name": "stdout",
     "output_type": "stream",
     "text": [
      "The encoded by additive method for 'thisisexercise' is 'nbcmcmyrylwcmy'\n",
      "The decoded from additive method for 'nbcmcmyrylwcmy' is 'thisisexercise'\n"
     ]
    }
   ],
   "source": [
    "ALPH_LEN = 26\n",
    "input = \"thisisexercise\"\n",
    "ADD_KEY = 20\n",
    "\n",
    "def add_encode(input, key):\n",
    "    ans = \"\"\n",
    "    for s in input:\n",
    "        ans += (chr((ord(s) - ord('a') + ADD_KEY) % ALPH_LEN + ord('a')))\n",
    "    return ans\n",
    "\n",
    "def add_decode(input, key):\n",
    "    ans = \"\"\n",
    "    for s in input:\n",
    "        ans += (chr((ord(s) - ord('a') - ADD_KEY) % ALPH_LEN + ord('a')))\n",
    "    return ans\n",
    "    \n",
    "\n",
    "print(f\"The encoded by additive method for '{input}' is '{add_encode(input, ADD_KEY)}'\")\n",
    "print(f\"The decoded from additive method for '{add_encode(input, ADD_KEY)}' is '{add_decode(add_encode(input, ADD_KEY), ADD_KEY)}'\")\n"
   ]
  },
  {
   "cell_type": "markdown",
   "metadata": {},
   "source": [
    "### Задание №2\n",
    "Зашифруйте сообщение \"the house is being sold tonight\" используя один из следующих шифров. Игнорируйте пробелы между словами. Расшифруйте сообщение что бы получить исходный текст.\n",
    "* Шифр Вижнера с ключем \"dollars\"\n",
    "* Шифр с автоматическим ключем = 7\n",
    "* Шифр Плейфера с ключем созданным в тексте (см рис. 4.13)"
   ]
  },
  {
   "cell_type": "code",
   "execution_count": 11,
   "metadata": {},
   "outputs": [
    {
     "name": "stdout",
     "output_type": "stream",
     "text": [
      "Vijner encode for thehouseisbeingsoldtonight is wvpsolkhwdmezfjgzwdkgqwrst\n",
      "Vijner decode for wvpsolkhwdmezfjgzwdkgqwrst is thehouseisbeingsoldtonight\n"
     ]
    }
   ],
   "source": [
    "def vijner_encode(input, key):\n",
    "    ans = \"\"\n",
    "    for i in range(0, len(input)):\n",
    "        ans += chr(((ord(input[i]) - ord('a')) + (ord(key[i%len(key)]) - ord('a'))) % ALPH_LEN + ord('a'))\n",
    "    return ans\n",
    "\n",
    "\n",
    "def vijner_decode(input, key):\n",
    "    ans = \"\"\n",
    "    for i in range(0, len(input)):\n",
    "        ans += chr(((ord(input[i]) - ord('a')) - (ord(key[i%len(key)]) - ord('a'))) % ALPH_LEN + ord('a'))\n",
    "    return ans\n",
    "\n",
    "\n",
    "input = \"thehouseisbeingsoldtonight\"\n",
    "VIJN_KEY = \"dollars\"\n",
    "\n",
    "print(f\"Vijner encode for {input} is {vijner_encode(input, VIJN_KEY)}\")\n",
    "print(f\"Vijner decode for {vijner_encode(input, VIJN_KEY)} is {vijner_decode(vijner_encode(input, VIJN_KEY), VIJN_KEY)}\")\n"
   ]
  },
  {
   "cell_type": "markdown",
   "metadata": {},
   "source": [
    "### Задание №3\n",
    "Используйте шифр Вижнера с ключевым словом \"HEALTH\" чтобы зашифровать сщщбщение \"Life is full surprises\""
   ]
  },
  {
   "cell_type": "code",
   "execution_count": 12,
   "metadata": {},
   "outputs": [
    {
     "name": "stdout",
     "output_type": "stream",
     "text": [
      "Vijner encode for lifeisfullsurprises is mgzjvtgsfqfvsnlnfft\n",
      "Vijner decode for mgzjvtgsfqfvsnlnfft is lifeisfullsurprises\n"
     ]
    }
   ],
   "source": [
    "VIJN_KEY = \"HEALTH\"\n",
    "input = \"lifeisfullsurprises\"\n",
    "\n",
    "print(f\"Vijner encode for {input} is {vijner_encode(input, VIJN_KEY)}\")\n",
    "print(f\"Vijner decode for {vijner_encode(input, VIJN_KEY)} is {vijner_decode(vijner_encode(input, VIJN_KEY), VIJN_KEY)}\")"
   ]
  }
 ],
 "metadata": {
  "interpreter": {
   "hash": "aee8b7b246df8f9039afb4144a1f6fd8d2ca17a180786b69acc140d282b71a49"
  },
  "kernelspec": {
   "display_name": "Python 3.9.10 64-bit",
   "language": "python",
   "name": "python3"
  },
  "language_info": {
   "codemirror_mode": {
    "name": "ipython",
    "version": 3
   },
   "file_extension": ".py",
   "mimetype": "text/x-python",
   "name": "python",
   "nbconvert_exporter": "python",
   "pygments_lexer": "ipython3",
   "version": "3.9.10"
  },
  "orig_nbformat": 4
 },
 "nbformat": 4,
 "nbformat_minor": 2
}
